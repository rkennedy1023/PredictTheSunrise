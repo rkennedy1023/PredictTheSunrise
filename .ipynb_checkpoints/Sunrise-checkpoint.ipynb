{
 "cells": [
  {
   "cell_type": "code",
   "execution_count": 1,
   "metadata": {
    "collapsed": true
   },
   "outputs": [],
   "source": [
    "#Predict the Sunrise!\n",
    "#Author: Ryan Kennedy\n",
    "#Purpose: Get a rudimentary introduction to data science by trying to predict the time of the sunrise.\n",
    "#Special thanks to John Miner (http://craftydba.com/) for providing the data for this experiment, and Mike Griffin for \n",
    "#the direction!"
   ]
  },
  {
   "cell_type": "code",
   "execution_count": 2,
   "metadata": {},
   "outputs": [
    {
     "name": "stderr",
     "output_type": "stream",
     "text": [
      "C:\\Users\\rkennedy\\AppData\\Local\\Continuum\\anaconda3\\lib\\site-packages\\sklearn\\cross_validation.py:41: DeprecationWarning: This module was deprecated in version 0.18 in favor of the model_selection module into which all the refactored classes and functions are moved. Also note that the interface of the new CV iterators are different from that of this module. This module will be removed in 0.20.\n",
      "  \"This module will be removed in 0.20.\", DeprecationWarning)\n"
     ]
    }
   ],
   "source": [
    "#Imports for all requisite libraries\n",
    "import pandas as pd\n",
    "import glob\n",
    "from xgboost import XGBClassifier\n",
    "from sklearn.metrics import accuracy_score\n",
    "from sklearn.metrics import mean_squared_error\n",
    "import matplotlib.pyplot as plt\n",
    "import numpy as np\n",
    "import time\n",
    "import datetime"
   ]
  },
  {
   "cell_type": "code",
   "execution_count": 3,
   "metadata": {
    "collapsed": true
   },
   "outputs": [],
   "source": [
    "#Can be toggled on and off based on what you want to display. \n",
    "#pd.set_option('display.max_rows', 5000000)"
   ]
  },
  {
   "cell_type": "code",
   "execution_count": 4,
   "metadata": {
    "collapsed": true
   },
   "outputs": [],
   "source": [
    "#defining a function to calculate seconds from midnight\n",
    "def get_sec(time_str):\n",
    "    h, m = time_str.split(':')\n",
    "    return int(h) * 3600 + int(m) * 60 \n",
    "\n",
    "def get_time(time_sec):\n",
    "    converted_time = time.strftime('%H:%M', time.gmtime(time_sec))\n",
    "    return converted_time\n",
    "\n",
    "def get_mins(time_str):\n",
    "    h, m = time_str.split(':')\n",
    "    return int(h) * 60 + int(m) \n",
    "\n",
    "def get_time_from_mins(time_mins):\n",
    "    time_sec = time_mins * 3600\n",
    "    converted_time = time.strftime('%H:%M', time.gmtime(time_sec))\n",
    "    return converted_time"
   ]
  },
  {
   "cell_type": "code",
   "execution_count": 5,
   "metadata": {
    "collapsed": true
   },
   "outputs": [],
   "source": [
    "#Load all data into dataframe from the folder\n",
    "path =r'C:\\Users\\rkennedy\\projects\\Data Science\\Predict the Sunrise\\SunRiseSet\\SunRiseSet\\outbound' # use your path\n",
    "allFiles = glob.glob(path + \"/*.csv\")\n",
    "frame = pd.DataFrame()\n",
    "list_ = []\n",
    "for file_ in allFiles:\n",
    "    df = pd.read_csv(file_,index_col=None, header=0)\n",
    "    #add year based on file name substring\n",
    "    df['year']=file_[100:104]\n",
    "    list_.append(df)\n",
    "frame = pd.concat(list_)"
   ]
  },
  {
   "cell_type": "code",
   "execution_count": 6,
   "metadata": {},
   "outputs": [
    {
     "name": "stdout",
     "output_type": "stream",
     "text": [
      "Empty DataFrame\n",
      "Columns: [month1, day1, sunrise1, sunset1, year]\n",
      "Index: []\n"
     ]
    }
   ],
   "source": [
    "#remove junk rows   \n",
    "frame = frame.loc[frame['sunrise1'] != 'Obse']\n",
    "frame=frame.dropna()\n",
    "\n",
    "#Drop sunset data as it is irrelevant for our model.\n",
    "frame = frame.drop(['sunset1'], axis=1)"
   ]
  },
  {
   "cell_type": "code",
   "execution_count": null,
   "metadata": {
    "collapsed": true
   },
   "outputs": [],
   "source": [
    "frame['sunrise_convert']=frame['sunrise1'].apply(get_sec) #convert into minutes. split"
   ]
  },
  {
   "cell_type": "code",
   "execution_count": null,
   "metadata": {},
   "outputs": [],
   "source": [
    "frame.head()"
   ]
  },
  {
   "cell_type": "code",
   "execution_count": null,
   "metadata": {},
   "outputs": [],
   "source": [
    "frame.dtypes"
   ]
  },
  {
   "cell_type": "code",
   "execution_count": null,
   "metadata": {},
   "outputs": [],
   "source": [
    "frame.describe()"
   ]
  },
  {
   "cell_type": "code",
   "execution_count": null,
   "metadata": {},
   "outputs": [],
   "source": [
    "#Convert columns to string to build the date column\n",
    "frame['month']=frame['month1'].astype('str')\n",
    "frame['day']=frame['day1'].astype('str')\n",
    "\n",
    "frame.head()\n"
   ]
  },
  {
   "cell_type": "code",
   "execution_count": null,
   "metadata": {},
   "outputs": [],
   "source": [
    "#build the Date column by applying a lambda join function\n",
    "frame['Date'] = frame[['month','day','year']].apply(lambda x:'/'.join(x), axis=1)\n",
    "frame.head()"
   ]
  },
  {
   "cell_type": "code",
   "execution_count": null,
   "metadata": {},
   "outputs": [],
   "source": [
    "#plot one year of data to check out how it looks.\n",
    "df=pd.DataFrame(frame)\n",
    "df=frame.loc[frame[\"year\"] == '1993']\n",
    "\n",
    "#convert to proper datetime format\n",
    "df['Date'] = pd.to_datetime(df['Date'])\n",
    "df['sunrise1'] = pd.to_datetime(df['sunrise1'], format='%H:%M').dt.time\n",
    "\n",
    "#plot\n",
    "plt.plot(df[\"Date\"],df[\"sunrise1\"])\n",
    "plt.gcf().autofmt_xdate()\n",
    "plt.xlabel('Date')\n",
    "plt.ylabel('Sunrise Time')\n",
    "plt.title('Date by Sunrise Time')\n",
    "plt.show()\n",
    "\n"
   ]
  },
  {
   "cell_type": "code",
   "execution_count": null,
   "metadata": {},
   "outputs": [],
   "source": [
    "#convert date and plot ALL data to make sure it looks accurate\n",
    "frame['Date'] = pd.to_datetime(frame['Date'])\n",
    "frame['sunrise_time'] = pd.to_datetime(frame['sunrise1'], format='%H:%M').dt.time\n",
    "\n",
    "#df\n",
    "#plot\n",
    "plt.plot(frame[\"Date\"],frame[\"sunrise_time\"])\n",
    "plt.gcf().autofmt_xdate()\n",
    "plt.xlabel('Date')\n",
    "plt.ylabel('Sunrise Time')\n",
    "plt.title('Date by Sunrise Time')\n",
    "plt.show()\n"
   ]
  },
  {
   "cell_type": "code",
   "execution_count": null,
   "metadata": {},
   "outputs": [],
   "source": [
    "#take another look at our data frame to see what we are dealing with\n",
    "frame.head()"
   ]
  },
  {
   "cell_type": "code",
   "execution_count": null,
   "metadata": {
    "collapsed": true
   },
   "outputs": [],
   "source": [
    "#frame.dtypes\n",
    "#train_size = int(len(X) * 0.8)\n",
    "#x_train, x_test = X[0:train_size], X[train_size:len(X)]\n",
    "#y_train, y_test = Y[0:train_size], Y[train_size:len(Y)]\n",
    "#Convert columns back to int so they can be passed into \n",
    "#frame['month']=frame['month'].astype('int')\n",
    "#frame['day']=frame['day'].astype('int')"
   ]
  },
  {
   "cell_type": "code",
   "execution_count": null,
   "metadata": {},
   "outputs": [],
   "source": [
    "#Split dataframe into two, one for training and one for testing.\n",
    "df_test = pd.DataFrame()\n",
    "df_train = pd.DataFrame()\n",
    "\n",
    "#We want to use 70% of our model for training, 30% for testing\n",
    "df_train, df_test = np.split(frame, [int(.7*len(frame))])\n",
    "df_train.head()"
   ]
  },
  {
   "cell_type": "code",
   "execution_count": null,
   "metadata": {
    "collapsed": true
   },
   "outputs": [],
   "source": [
    "#Slice data frame into arrays to pass into the model\n",
    "x_train = df_train.iloc[:,0:2].values\n",
    "x_test  = df_test.iloc[:,0:2].values\n",
    "y_train = df_train.iloc[:,4].values\n",
    "y_test = df_test.iloc[:,4].values\n",
    "\n",
    "\n"
   ]
  },
  {
   "cell_type": "code",
   "execution_count": null,
   "metadata": {},
   "outputs": [],
   "source": [
    "#Make sure things look correct\n",
    "x_train\n",
    "y_train"
   ]
  },
  {
   "cell_type": "code",
   "execution_count": null,
   "metadata": {},
   "outputs": [],
   "source": [
    "df_test.head()\n",
    "\n"
   ]
  },
  {
   "cell_type": "code",
   "execution_count": null,
   "metadata": {},
   "outputs": [],
   "source": [
    "##Train the model! \n",
    "\n",
    "model = XGBClassifier()\n",
    "model.fit(x_train, y_train)\n",
    "print(model)"
   ]
  },
  {
   "cell_type": "code",
   "execution_count": null,
   "metadata": {
    "collapsed": true
   },
   "outputs": [],
   "source": [
    "#Test the model on our test dataset!\n",
    "y_pred = model.predict(x_test)"
   ]
  },
  {
   "cell_type": "code",
   "execution_count": null,
   "metadata": {},
   "outputs": [],
   "source": [
    "#Show raw accuracy\n",
    "accuracy = accuracy_score(y_test, y_pred)\n",
    "print(\"Accuracy: %.2f%%\" % (accuracy * 100.0))\n"
   ]
  },
  {
   "cell_type": "code",
   "execution_count": null,
   "metadata": {},
   "outputs": [],
   "source": [
    "df_test.head()"
   ]
  },
  {
   "cell_type": "code",
   "execution_count": null,
   "metadata": {},
   "outputs": [],
   "source": [
    "\n",
    "#Build a dataframe from the predictions\n",
    "df_y_pred = pd.DataFrame(y_pred, columns=['y_pred'])\n",
    "\n",
    "#re-index both dataframes so that when we concatenate them, they stay in the proper order\n",
    "df_y_pred = df_y_pred.reset_index()\n",
    "df_test = df_test.reset_index()\n",
    "\n",
    "#Add predictions column to test dataframe\n",
    "df_test['prediction'] = df_y_pred['y_pred']\n",
    "\n",
    "df_test.head()\n"
   ]
  },
  {
   "cell_type": "code",
   "execution_count": null,
   "metadata": {},
   "outputs": [],
   "source": [
    "df_test.head()\n",
    "df_test.dtypes"
   ]
  },
  {
   "cell_type": "code",
   "execution_count": null,
   "metadata": {},
   "outputs": [],
   "source": [
    "#format predictions back to actual time\n",
    "df_test['prediction_time']=df_test['prediction'].apply(get_time)\n",
    "df_test['prediction_time'] = pd.to_datetime(df_test['prediction_time'], format='%H:%M').dt.time\n",
    "df_test.head()\n"
   ]
  },
  {
   "cell_type": "code",
   "execution_count": null,
   "metadata": {},
   "outputs": [],
   "source": [
    "\n",
    "plt.plot(df_test[\"Date\"], df_test[\"sunrise_time\"], df_test[\"Date\"], df_test[\"prediction_time\"])\n",
    "\n",
    "plt.gcf().autofmt_xdate()\n",
    "plt.xlabel('Date')\n",
    "plt.ylabel('Sunrise Time')\n",
    "plt.title('Date by Sunrise Time - Predictions VS Actuals')\n",
    "plt.show()"
   ]
  },
  {
   "cell_type": "code",
   "execution_count": null,
   "metadata": {
    "scrolled": true
   },
   "outputs": [],
   "source": [
    "#Zoom in to take a closer look at just one year\n",
    "subset_df = df_test[(df_test['year'] == '2015')]# & (df_test['month'] == '7')]# | (df_test['month'] == 8) | (df_test['month'] == 9) ) ]\n",
    "\n",
    "subset_df\n",
    "\n",
    "plt.plot(subset_df[\"Date\"], subset_df[\"sunrise_time\"], subset_df[\"Date\"], subset_df[\"prediction_time\"])\n",
    "\n",
    "plt.gcf().autofmt_xdate()\n",
    "plt.xlabel('Date')\n",
    "plt.ylabel('Sunrise Time')\n",
    "plt.title('Date by Sunrise Time - Predictions VS Actuals')\n",
    "plt.show()"
   ]
  },
  {
   "cell_type": "code",
   "execution_count": null,
   "metadata": {},
   "outputs": [],
   "source": [
    "#Zoom in even closer to see a month\n",
    "subset_df = df_test[(df_test['year'] == '2015') & (df_test['month'] == '7')]# | (df_test['month'] == 8) | (df_test['month'] == 9) ) ]\n",
    "\n",
    "subset_df\n",
    "\n",
    "plt.plot(subset_df[\"Date\"], subset_df[\"sunrise_time\"], subset_df[\"Date\"], subset_df[\"prediction_time\"])\n",
    "plt.xlabel('Date')\n",
    "plt.ylabel('Sunrise Time')\n",
    "plt.title('Date by Sunrise Time - Predictions VS Actuals')\n",
    "plt.gcf().autofmt_xdate()\n",
    "plt.show()"
   ]
  },
  {
   "cell_type": "markdown",
   "metadata": {},
   "source": [
    "\n",
    "Lessons Learned:\n",
    "1. Pay attention to object types / datatypes. Machine learning models require specific data types in specific formats, so\n",
    "make sure you read the model's documentation. Even something as simple as plotting a time series graph will be thrown off if your\n",
    "x axis is not in the proper datetime format.\n",
    "2. Indexing when merging / concatenating dataframes.  If you are trying to combine data frames, or add columns from one to\n",
    "another, the index is key if you want to keep the rows in a specific order.\n",
    "3. Keep in mind context of what you are predicting, and what can be considered  a 'good' model.  My raw accuracy with this model\n",
    "is ~71%, but when you look at the predicted times vs the actual times, the predictions were EXTREMELY close.  In the context of\n",
    "predicting the sunrise, this model would work fine.  \n",
    "4. Data munging... you have heard it is most of the work, and it is true.  I had the model built and tested within an hour,\n",
    "but dealing with data types / objects / munging / visualizations took a LOT longer.\n",
    "5. Make sure data is accurate - shows the importance of discovery phase of data science.  My first model was abysmal, and it was \n",
    "because my source data was wrong.\n",
    "\n",
    "70% of the time I am within at least .5 seconds of the sunrise time\n",
    "\n"
   ]
  },
  {
   "cell_type": "markdown",
   "metadata": {},
   "source": [
    "Next Steps:\n",
    "\n",
    "1. Add code to Azure Machine Learning and set it up as an API call\n",
    "2. Convert code to PySpark and get running in Data Bricks on Azure\n"
   ]
  },
  {
   "cell_type": "markdown",
   "metadata": {},
   "source": [
    "Key Links:\n",
    "\n",
    "Pandas cheat sheet: https://www.datacamp.com/community/blog/python-pandas-cheat-sheet\n",
    "Microsoft Machine Learning Algorithm cheat sheet: https://docs.microsoft.com/en-us/azure/machine-learning/studio/algorithm-cheat-sheet\n",
    "Anaconda: https://www.anaconda.com/download/"
   ]
  }
 ],
 "metadata": {
  "kernelspec": {
   "display_name": "Python 3",
   "language": "python",
   "name": "python3"
  },
  "language_info": {
   "codemirror_mode": {
    "name": "ipython",
    "version": 3
   },
   "file_extension": ".py",
   "mimetype": "text/x-python",
   "name": "python",
   "nbconvert_exporter": "python",
   "pygments_lexer": "ipython3",
   "version": "3.6.3"
  }
 },
 "nbformat": 4,
 "nbformat_minor": 2
}
